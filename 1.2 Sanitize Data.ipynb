{
 "cells": [
  {
   "cell_type": "markdown",
   "metadata": {},
   "source": [
    "# Sanitize Data\n",
    "\n",
    "- remove duplicates\n",
    "- remove null values\n",
    "- input and output set"
   ]
  },
  {
   "cell_type": "markdown",
   "metadata": {},
   "source": [
    "### Data\n",
    "\n",
    "1=male, 0=female\n",
    "\n",
    "### Predictions\n",
    "- Men 20-25 like hiphop\n",
    "- Men 26-30 like jazz\n",
    "- Men 30+ like classical\n",
    "- Women 20-25 like dance\n",
    "- Women 26-30 like acoustic\n",
    "- Women 30+ like classical"
   ]
  },
  {
   "cell_type": "markdown",
   "metadata": {},
   "source": [
    "## Split Dataset\n",
    "\n",
    "When we train a model we give it an input set and an output set. \n",
    "\n",
    "1. Input Set: (age, gender)\n",
    "2. Output Set: The predictions (genre)\n"
   ]
  },
  {
   "cell_type": "markdown",
   "metadata": {},
   "source": [
    "## Learning and predicting\n",
    "\n",
    "Build a model using a ML algo. We're going to use decision tree."
   ]
  },
  {
   "cell_type": "markdown",
   "metadata": {},
   "source": [
    "## Calculating the Accuracy\n",
    "\n",
    "Split dataset into 2 sets: *training set* and *testing set*. We are currently only using 2 samples for predictions. 2 samples is not enough for caculating accuracy. A general rule of thumb is to allocate *70-80%* of our data to training the model and the other *20-30%* for testing. Pass the testing set to the predictions. Then we can can compare the predictions to the actual values in the test set to calculate the accuracy."
   ]
  },
  {
   "cell_type": "code",
   "execution_count": 56,
   "metadata": {},
   "outputs": [
    {
     "data": {
      "text/plain": [
       "array(['Dance', 'Acoustic', 'Jazz', 'HipHop'], dtype=object)"
      ]
     },
     "execution_count": 56,
     "metadata": {},
     "output_type": "execute_result"
    }
   ],
   "source": [
    "import pandas as pd\n",
    "from sklearn.tree import DecisionTreeClassifier\n",
    "from sklearn.model_selection import train_test_split\n",
    "from sklearn.metrics import accuracy_score\n",
    "\n",
    "# Import Data\n",
    "music_data = pd.read_csv('music.csv')\n",
    "\n",
    "# Sanitize Data\n",
    "# split data frame into 2 sets: input and output\n",
    "X = music_data.drop(columns=['genre']) # input set is always represented by 'X'\n",
    "y = music_data['genre'] # output set is always represented by 'y'\n",
    "X_train, X_test, y_train, y_test = train_test_split(X, y, test_size=0.2) # allocate 20% of data for testing\n",
    "\n",
    "# Learn and Predict\n",
    "model = DecisionTreeClassifier() # create a model\n",
    "model.fit(X_train, y_train) # train the model\n",
    "predictions = model.predict([ [21, 1], [22, 0] ]) # ask the model to predict what kind of music a 21 year old male would like ([21,1]) and what kind of music a 22 year old woman would like ([22,0])\n",
    "predictions = model.predict(X_test) # make a prediction. ask the model to make a prediction using our input test set\n",
    "predictions"
   ]
  },
  {
   "cell_type": "code",
   "execution_count": 58,
   "metadata": {},
   "outputs": [
    {
     "data": {
      "text/plain": [
       "0.75"
      ]
     },
     "execution_count": 58,
     "metadata": {},
     "output_type": "execute_result"
    }
   ],
   "source": [
    "# Calculate the Accuracy\n",
    "score = accuracy_score(y_test, predictions) # compare predictions with the actual values in our output set\n",
    "score"
   ]
  },
  {
   "cell_type": "code",
   "execution_count": null,
   "metadata": {},
   "outputs": [],
   "source": []
  },
  {
   "cell_type": "code",
   "execution_count": null,
   "metadata": {},
   "outputs": [],
   "source": []
  },
  {
   "cell_type": "markdown",
   "metadata": {},
   "source": []
  },
  {
   "cell_type": "markdown",
   "metadata": {},
   "source": []
  }
 ],
 "metadata": {
  "kernelspec": {
   "display_name": "Python 3",
   "language": "python",
   "name": "python3"
  },
  "language_info": {
   "codemirror_mode": {
    "name": "ipython",
    "version": 3
   },
   "file_extension": ".py",
   "mimetype": "text/x-python",
   "name": "python",
   "nbconvert_exporter": "python",
   "pygments_lexer": "ipython3",
   "version": "3.8.3"
  }
 },
 "nbformat": 4,
 "nbformat_minor": 4
}
